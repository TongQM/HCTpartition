{
 "cells": [
  {
   "cell_type": "code",
   "execution_count": 13,
   "metadata": {},
   "outputs": [
    {
     "name": "stdout",
     "output_type": "stream",
     "text": [
      "lambdas is [0. 0. 0. 0. 0. 0. 0. 0. 0. 0. 0.]., v0 is 1e-06, v1 is [1. 1. 1. 1. 1. 1. 1. 1. 1. 1. 1.].\n"
     ]
    },
    {
     "name": "stderr",
     "output_type": "stream",
     "text": [
      "/Users/miaoyidi/miniconda3/envs/HCT/lib/python3.11/site-packages/scipy/integrate/_quadpack_py.py:1233: IntegrationWarning: The integral is probably divergent, or slowly convergent.\n",
      "  quad_r = quad(f, low, high, args=args, full_output=self.full_output,\n",
      "/Users/miaoyidi/miniconda3/envs/HCT/lib/python3.11/site-packages/scipy/integrate/_quadpack_py.py:1233: IntegrationWarning: The maximum number of subdivisions (50) has been achieved.\n",
      "  If increasing the limit yields no improvement it is advised to analyze \n",
      "  the integrand in order to determine the difficulties.  If the position of a \n",
      "  local difficulty can be determined (singularity, discontinuity) one will \n",
      "  probably gain from splitting up the interval and calling the integrator \n",
      "  on the subranges.  Perhaps a special-purpose integrator should be used.\n",
      "  quad_r = quad(f, low, high, args=args, full_output=self.full_output,\n",
      "/Users/miaoyidi/miniconda3/envs/HCT/lib/python3.11/site-packages/torchquad/integration/simpson.py:77: UserWarning: N per dimension cannot be even due to necessary subdivisions. N per dim will now be changed to the next lower integer, i.e. 3162 -> 3161.\n",
      "  warnings.warn(\n"
     ]
    },
    {
     "name": "stdout",
     "output_type": "stream",
     "text": [
      "DEBUG: jac is [ 0.15237174  0.05542311  0.09009643  0.08939329  0.03347948  0.07921376\n",
      "  0.00754656  0.02935289  0.07738335 -0.02124277  0.09025623  0.07757027].\n",
      "lambdas is [0. 0. 0. 0. 0. 0. 0. 0. 0. 0. 0.]., v0 is 0.0, v1 is [0.94457689 0.90990357 0.91060671 0.96652052 0.92078624 0.99245344\n",
      " 0.97064711 0.92261665 1.02124277 0.90974377 0.92242973].\n"
     ]
    },
    {
     "name": "stderr",
     "output_type": "stream",
     "text": [
      "/Users/miaoyidi/miniconda3/envs/HCT/lib/python3.11/site-packages/torchquad/integration/utils.py:255: UserWarning: DEPRECATION WARNING: In future versions of torchquad, an array-like object will be returned.\n",
      "  warnings.warn(\n"
     ]
    },
    {
     "name": "stdout",
     "output_type": "stream",
     "text": [
      "DEBUG: jac is [ 0.14951365  0.05113667  0.0899275   0.08908394  0.02943182  0.07711606\n",
      "  0.00627393  0.02557359  0.07501903 -0.01662556  0.09012019  0.07523243].\n",
      "lambdas is [0. 0. 0. 0. 0. 0. 0. 0. 0. 0. 0.]., v0 is 0.0, v1 is [0.68750527 0.45800925 0.46294783 0.81852282 0.53322173 0.96089473\n",
      " 0.8420439  0.54558317 1.10490268 0.45688203 0.54432456].\n",
      "DEBUG: jac is [ 0.11997265  0.01583207  0.08704035  0.08383255  0.00519107  0.04977769\n",
      "  0.00062514  0.00409261  0.04546735 -0.00095815  0.08778183  0.04588935].\n",
      "lambdas is [0. 0. 0. 0. 0. 0. 0. 0. 0. 0. 0.]., v0 is 0.0, v1 is [0.44244058 0.         0.         0.68535058 0.11137665 0.93346447\n",
      " 0.72716477 0.14118426 1.17622898 0.         0.13818395].\n",
      "lambdas is [0. 0. 0. 0. 0. 0. 0. 0. 0. 0. 0.]., v0 is 0.0, v1 is [0.6629988  0.41220832 0.41665305 0.80520559 0.49103722 0.9581517\n",
      " 0.83055599 0.50514327 1.11203531 0.41119383 0.5037105 ].\n",
      "DEBUG: jac is [1.13988272e-01 1.01796139e-02 8.61325530e-02 8.21728853e-02\n",
      " 2.33174192e-03 4.24079353e-02 1.05536844e-04 1.67486755e-03\n",
      " 3.79002304e-02 2.16541208e-04 8.70481049e-02 3.82594142e-02].\n",
      "lambdas is [0. 0. 0. 0. 0. 0. 0. 0. 0. 0. 0.]., v0 is 5.4738628170343383e-17, v1 is [4.90248842e-01 0.00000000e+00 5.55111512e-17 7.12242311e-01\n",
      " 1.54048839e-01 9.38744124e-01 7.50241649e-01 1.88421513e-01\n",
      " 1.16355465e+00 1.11022302e-16 1.85704737e-01].\n",
      "lambdas is [0. 0. 0. 0. 0. 0. 0. 0. 0. 0. 0.]., v0 is 5.473862817034339e-18, v1 is [0.6457238  0.37098749 0.37498774 0.79590926 0.45733838 0.95621095\n",
      " 0.82252455 0.4734711  1.11718724 0.37007445 0.47190992].\n",
      "DEBUG: jac is [ 1.08599903e-01  5.80272048e-03  8.50168687e-02  8.01219485e-02\n",
      "  2.50514949e-04  3.49971795e-02 -2.63433465e-04 -7.73161051e-05\n",
      "  3.05708627e-02  1.05358183e-03  8.61421600e-02  3.10136862e-02].\n",
      "lambdas is [0. 0. 0. 0. 0. 0. 0. 0. 0. 0. 0.]., v0 is 0.0, v1 is [5.25850156e-01 1.11022302e-16 0.00000000e+00 7.31642824e-01\n",
      " 1.96701418e-01 9.42558936e-01 7.66898036e-01 2.33031914e-01\n",
      " 1.15420804e+00 1.66533454e-16 2.29313193e-01].\n",
      "lambdas is [0. 0. 0. 0. 0. 0. 0. 0. 0. 0. 0.]., v0 is 4.926476535330905e-18, v1 is [0.63373644 0.33388874 0.33748897 0.78948262 0.43127469 0.95484575\n",
      " 0.8169619  0.44942718 1.12088932 0.333067   0.44765025].\n",
      "DEBUG: jac is [ 0.10392065  0.00255232  0.08362817  0.07759578 -0.00123139  0.02803462\n",
      " -0.00052238 -0.00132053  0.02394022  0.0016447   0.08502381  0.02434607].\n",
      "lambdas is [0. 0. 0. 0. 0. 0. 0. 0. 0. 0. 0.]., v0 is 0.0, v1 is [5.50842095e-01 1.66533454e-16 0.00000000e+00 7.45312998e-01\n",
      " 2.34388880e-01 9.45298569e-01 7.78670953e-01 2.70520381e-01\n",
      " 1.14732635e+00 1.11022302e-16 2.66871824e-01].\n",
      "lambdas is [0. 0. 0. 0. 0. 0. 0. 0. 0. 0. 0.]., v0 is 4.4338288817978145e-18, v1 is [0.625447   0.30049987 0.30374007 0.78506566 0.4115861  0.95389103\n",
      " 0.81313281 0.4315365  1.12353303 0.2997603  0.42957241].\n",
      "DEBUG: jac is [ 0.09997158  0.00019481  0.0819255   0.07447319 -0.00227111  0.02187597\n",
      " -0.0007055  -0.00219119  0.01827203  0.00206427  0.08364328  0.01862563].\n",
      "lambdas is [0. 0. 0. 0. 0. 0. 0. 0. 0. 0. 0.]., v0 is 4.515339736426659e-17, v1 is [5.68233243e-01 5.55111512e-17 0.00000000e+00 7.55123772e-01\n",
      " 2.65278649e-01 9.47354069e-01 7.87175712e-01 2.99898331e-01\n",
      " 1.14204872e+00 5.55111512e-17 2.96443251e-01].\n",
      "lambdas is [0. 0. 0. 0. 0. 0. 0. 0. 0. 0. 0.]., v0 is 8.505785730044693e-18, v1 is [0.61972563 0.27044988 0.27336607 0.78207147 0.39695536 0.95323733\n",
      " 0.8105371  0.41837268 1.1253846  0.26978427 0.41625949].\n",
      "DEBUG: jac is [ 0.09669466 -0.00148784  0.07981848  0.07061414 -0.00298597  0.01669349\n",
      " -0.00083119 -0.00278831  0.01362913  0.00235645  0.08193878  0.0139269 ].\n",
      "lambdas is [0. 0. 0. 0. 0. 0. 0. 0. 0. 0. 0.]., v0 is 3.554376012194158e-17, v1 is [5.80707352e-01 5.55111512e-17 0.00000000e+00 7.62486747e-01\n",
      " 2.89671860e-01 9.48961106e-01 7.93607163e-01 3.22283448e-01\n",
      " 1.13780318e+00 1.11022302e-16 3.19057982e-01].\n",
      "lambdas is [0. 0. 0. 0. 0. 0. 0. 0. 0. 0. 0.]., v0 is 1.1209583169234382e-17, v1 is [0.6158238  0.24340489 0.24602946 0.780113   0.38622701 0.95280971\n",
      " 0.8088441  0.40876376 1.12662645 0.24280584 0.40653934].\n",
      "DEBUG: jac is [ 0.09399381 -0.00266232  0.07720592  0.06583411 -0.003458    0.01251304\n",
      " -0.00091356 -0.00318097  0.0099531   0.0025516   0.07983445  0.01020157].\n",
      "lambdas is [0. 0. 0. 0. 0. 0. 0. 0. 0. 0. 0.]., v0 is 0.0, v1 is [0.59005476 0.         0.         0.76828245 0.30850397 0.95027799\n",
      " 0.79871025 0.33919357 1.1342277  0.         0.33616055].\n",
      "lambdas is [0. 0. 0. 0. 0. 0. 0. 0. 0. 0. 0.]., v0 is 1.0088624852310944e-17, v1 is [0.6132469  0.2190644  0.22142651 0.77892994 0.37845471 0.95255654\n",
      " 0.80783072 0.40180674 1.12738658 0.21852526 0.39950146].\n",
      "DEBUG: jac is [ 0.09174691 -0.0034504   0.07399211  0.05995283 -0.00374481  0.00925989\n",
      " -0.00096237 -0.00341718  0.00712546  0.00267071  0.0772367   0.00721038].\n",
      "lambdas is [0. 0. 0. 0. 0. 0. 0. 0. 0. 0. 0.]., v0 is 0.0, v1 is [5.97267603e-01 1.11022302e-16 5.55111512e-17 7.72978839e-01\n",
      " 3.22634479e-01 9.51387958e-01 8.02877091e-01 3.51796577e-01\n",
      " 1.13113047e+00 5.55111512e-17 3.50091099e-01].\n",
      "lambdas is [0. 0. 0. 0. 0. 0. 0. 0. 0. 0. 0.]., v0 is 9.07976236707985e-18, v1 is [0.61164897 0.19715796 0.19928386 0.77833483 0.37287268 0.95243968\n",
      " 0.80733536 0.39680572 1.12776097 0.19667273 0.39456042].\n",
      "DEBUG: jac is [ 0.08983804 -0.00394408  0.070024    0.05269562 -0.00388961  0.00679708\n",
      " -0.00098492 -0.00353297  0.0050002   0.00272928  0.07402956  0.00510113].\n",
      "lambdas is [0. 0. 0. 0. 0. 0. 0. 0. 0. 0. 0.]., v0 is 0.0, v1 is [6.03075703e-01 0.00000000e+00 1.61511542e-02 7.76855513e-01\n",
      " 3.33488810e-01 9.52333184e-01 8.06333559e-01 3.61570781e-01\n",
      " 1.12841302e+00 2.77555756e-17 3.59561027e-01].\n",
      "lambdas is [0. 0. 0. 0. 0. 0. 0. 0. 0. 0. 0.]., v0 is 8.171786130371865e-18, v1 is [0.61079164 0.17744217 0.18097059 0.7781869  0.3689343  0.95242903\n",
      " 0.80723518 0.39328223 1.12782617 0.17700546 0.39106048].\n",
      "DEBUG: jac is [ 0.08817627 -0.00421058  0.06512456  0.0445742  -0.00392566  0.00499169\n",
      " -0.00098697 -0.00355641  0.00345396  0.00273948  0.07006538  0.00355827].\n",
      "lambdas is [0. 0. 0. 0. 0. 0. 0. 0. 0. 0. 0.]., v0 is 1.8210865987049077e-17, v1 is [6.07439378e-01 2.77555756e-17 4.73567393e-02 7.79845823e-01\n",
      " 3.40913539e-01 9.53085932e-01 8.09013346e-01 3.68391323e-01\n",
      " 1.12617952e+00 0.00000000e+00 3.66191951e-01].\n",
      "lambdas is [0. 0. 0. 0. 0. 0. 0. 0. 0. 0. 0.]., v0 is 9.175694116039587e-18, v1 is [0.61045641 0.15969795 0.16760921 0.77835279 0.36613222 0.95249472\n",
      " 0.80741299 0.39079314 1.12766151 0.15930491 0.38857363].\n",
      "DEBUG: jac is [ 0.08672036 -0.00431508  0.05907586  0.03689191 -0.00388524  0.00367148\n",
      " -0.0009743  -0.0035148   0.00233635  0.00271373  0.06518227  0.00243665].\n",
      "lambdas is [0. 0. 0. 0. 0. 0. 0. 0. 0. 0. 0.]., v0 is 3.089612300047956e-17, v1 is [0.61075131 0.00168777 0.07884446 0.78220903 0.34574369 0.95369851\n",
      " 0.81114267 0.37294706 1.12431796 0.         0.37064076].\n",
      "lambdas is [0. 0. 0. 0. 0. 0. 0. 0. 0. 0. 0.]., v0 is 1.1347737004483584e-17, v1 is [0.6104859  0.14389693 0.15873273 0.77873842 0.36409337 0.9526151\n",
      " 0.80778596 0.38900853 1.12732715 0.14337442 0.38678034].\n",
      "DEBUG: jac is [ 0.08542981 -0.00430588  0.05170106  0.03068219 -0.00379138  0.00269158\n",
      " -0.00095108 -0.00342763  0.00152182  0.0026614   0.05914022  0.00161442].\n",
      "lambdas is [0. 0. 0. 0. 0. 0. 0. 0. 0. 0. 0.]., v0 is 0.0, v1 is [0.61357812 0.02700491 0.10444482 0.7840481  0.35044209 0.95416618\n",
      " 0.81278682 0.3774023  1.12286668 0.0087338  0.37504809].\n",
      "lambdas is [0. 0. 0. 0. 0. 0. 0. 0. 0. 0. 0.]., v0 is 1.0212963304035226e-17, v1 is [0.61079513 0.13220773 0.15330394 0.77926939 0.36272824 0.95277021\n",
      " 0.80828605 0.38784791 1.12688111 0.12991036 0.38560712].\n",
      "DEBUG: jac is [ 0.08437211 -0.0042095   0.04446168  0.02634105 -0.00366243  0.00202632\n",
      " -0.00092117 -0.00331093  0.00098603  0.00259153  0.05221804  0.00107022].\n",
      "lambdas is [0. 0. 0. 0. 0. 0. 0. 0. 0. 0. 0.]., v0 is 0.0, v1 is [0.61581916 0.0572694  0.11843611 0.78535774 0.35460337 0.95448486\n",
      " 0.8139427  0.38135365 1.12186971 0.03334189 0.37898939].\n",
      "lambdas is [0. 0. 0. 0. 0. 0. 0. 0. 0. 0. 0.]., v0 is 7.288814279199567e-18, v1 is [0.6122336  0.11075158 0.14332067 0.78101259 0.36040195 0.95326114\n",
      " 0.80990565 0.38598849 1.12544626 0.10226113 0.38371235].\n",
      "DEBUG: jac is [ 0.08174526 -0.00376301  0.02472128  0.01703257 -0.00324074  0.00087581\n",
      " -0.00082661 -0.00293448  0.00011757  0.00236616  0.02847157  0.00018079].\n",
      "lambdas is [0. 0. 0. 0. 0. 0. 0. 0. 0. 0. 0.]., v0 is 0.0, v1 is [0.61716672 0.08377363 0.12569344 0.78594896 0.35770222 0.95460542\n",
      " 0.81444265 0.38428953 1.12149072 0.06856852 0.38193095].\n",
      "lambdas is [0. 0. 0. 0. 0. 0. 0. 0. 0. 0. 0.]., v0 is 3.463913259809995e-18, v1 is [0.61482232 0.09659455 0.13407055 0.78360301 0.35898523 0.95396657\n",
      " 0.8122865  0.38509694 1.12337054 0.08458049 0.38277754].\n",
      "DEBUG: jac is [ 0.07912607 -0.0029674   0.00389845  0.00648657 -0.00261929  0.00016398\n",
      " -0.00069099 -0.00238529 -0.0003033   0.00203857 -0.00036388 -0.0002629 ].\n",
      "Optimization terminated successfully    (Exit mode 0)\n",
      "            Current function value: 1.046061192010818\n",
      "            Iterations: 17\n",
      "            Function evaluations: 31\n",
      "            Gradient evaluations: 17\n"
     ]
    },
    {
     "data": {
      "text/plain": [
       "(array([3.46391326e-18, 6.14822318e-01, 9.65945463e-02, 1.34070553e-01,\n",
       "        7.83603013e-01, 3.58985231e-01, 9.53966571e-01, 8.12286499e-01,\n",
       "        3.85096938e-01, 1.12337054e+00, 8.45804876e-02, 3.82777536e-01]),\n",
       " 1.046061192010818)"
      ]
     },
     "execution_count": 13,
     "metadata": {},
     "output_type": "execute_result"
    }
   ],
   "source": [
    "import numpy as np\n",
    "import torch\n",
    "import numba as nb\n",
    "import torchquad\n",
    "from scipy import optimize, integrate, linalg\n",
    "from classes import Region, Coordinate, Demands_generator, Demand\n",
    "\n",
    "\n",
    "tol = 1e-4\n",
    "# Instrumental functions for scipy integration\n",
    "@nb.jit(nopython=True)\n",
    "def norm_func(x, y):\n",
    "    return np.sqrt(np.sum(np.square(x - y)))\n",
    "\n",
    "@nb.jit(nopython=True)\n",
    "def modified_norm(x_cdnt, i, demands_locations, lambdas):\n",
    "    return norm_func(x_cdnt, demands_locations[i]) - lambdas[i]\n",
    "\n",
    "@nb.jit(nopython=True)\n",
    "def region_indicator(i, x_cdnt, lambdas, demands_locations):\n",
    "    i_modified_norm = modified_norm(x_cdnt, i, demands_locations, lambdas)\n",
    "    for j in range(len(lambdas)):\n",
    "        if i_modified_norm > modified_norm(x_cdnt, j, demands_locations, lambdas):\n",
    "            return 0\n",
    "    return 1\n",
    "\n",
    "@nb.jit(nopython=True)\n",
    "def categorize_x(x_cdnt, demands_locations, lambdas, v):\n",
    "    modified_norms = np.array([modified_norm(x_cdnt, i, demands_locations, lambdas) for i in range(demands_locations.shape[0])])\n",
    "    i = np.argmin(modified_norms)\n",
    "    return demands_locations[i], v[i+1]\n",
    "\n",
    "# Integrands of function and derivatives\n",
    "# @nb.jit(nopython=True)\n",
    "def integrand(X, lambdas, v, demands_locations):\n",
    "    '''\n",
    "    X is a n-by-2 matrix, the first column is r, the second column is theta.\n",
    "    '''\n",
    "    dtype = X.dtype\n",
    "    print(f\"lambdas is {lambdas}., v0 is {v[0]}, v1 is {v[1:]}.\")\n",
    "    lambdas, v1, v0 = torch.tensor(lambdas, dtype=dtype), torch.tensor(v[1:], dtype=dtype), v[0]\n",
    "    # print(f\"lambdas is {lambdas}., v0 is {v0}, v1 is {v1}.\")\n",
    "    demands_locations = torch.tensor(demands_locations, dtype=dtype)\n",
    "    x_cdnt = X.clone()\n",
    "    x_cdnt[:, 0] = X[:, 0]*torch.cos(x_cdnt[:, 1])\n",
    "    x_cdnt[:, 1] = X[:, 0]*torch.sin(x_cdnt[:, 1])\n",
    "    norms = torch.cdist(x_cdnt, demands_locations, p=2)\n",
    "    modified_norms, modified_norms_indices = torch.min(norms - lambdas, dim=1)\n",
    "    raw_intgrd = 1 / (v0*norms[torch.arange(norms.shape[0]), modified_norms_indices] + v1[modified_norms_indices])\n",
    "    if raw_intgrd.is_complex(): \n",
    "        # print(f\"raw_intgrd is complex. {raw_intgrd}\")\n",
    "        raise ValueError\n",
    "    return X[:, 0]*raw_intgrd\n",
    "\n",
    "@nb.njit\n",
    "def integrand_scipy(r, theta, lambdas, v, demands_locations):\n",
    "    x_cdnt = np.array([r*np.cos(theta), r*np.sin(theta)])\n",
    "    xi, vi = categorize_x(x_cdnt, demands_locations, lambdas, v)\n",
    "    raw_intgrd = 1 / (v[0]*norm_func(x_cdnt, xi) + vi)\n",
    "    return r*raw_intgrd\n",
    "\n",
    "@nb.njit\n",
    "def jac_integrand0(r, theta, lambdas, v, demands_locations):\n",
    "    x_cdnt = np.array([r*np.cos(theta), r*np.sin(theta)])\n",
    "    xi, vi = categorize_x(x_cdnt, demands_locations, lambdas, v)\n",
    "    the_norm = norm_func(x_cdnt, xi)\n",
    "    return -r * the_norm/pow(v[0]*the_norm + vi, 2)\n",
    "\n",
    "'''NOTE: i is the index of v, whose values range from 0 to n\n",
    "      But j is the index of regions, whose values range from 1 to n.\n",
    "      For indexes of demands_locations (0 to n-1), we need to offset j by subtracting one.'''\n",
    "\n",
    "@nb.njit\n",
    "def jac_integrandj(r, theta, lambdas, v, demands_locations, j):\n",
    "    x_cdnt = np.array([r*np.cos(theta), r*np.sin(theta)])\n",
    "    if region_indicator(j-1, x_cdnt, lambdas, demands_locations) == 0: return 0\n",
    "    return -r / pow(v[0] * norm_func(x_cdnt, demands_locations[j-1]) + v[j], 2)\n",
    "\n",
    "def objective_function(v, demands_locations, lambdas, t, region_radius, thetarange):\n",
    "    # print(f\"DEBUG: v is {v, type(v[1])}.\")\n",
    "    # v = np.real(v)\n",
    "    start, end = thetarange\n",
    "    simpson = torchquad.Simpson()\n",
    "    sum_integral = simpson.integrate(lambda X: integrand(X, lambdas, v, demands_locations), dim=2, N=10000000, integration_domain=[[0, region_radius], [start, end]], backend='torch').item()\n",
    "    # print(f\"sum_integral is {sum_integral}. with type {type(sum_integral)}\")\n",
    "    return 1/4*sum_integral + v[0]*t + np.mean(v[1:])\n",
    "\n",
    "def objective_function_scipy(v, demands_locations, lambdas, t, region_radius, thetarange):\n",
    "    print(f\"DEBUG: v is {v, type(v[1])}.\")\n",
    "    start, end = thetarange\n",
    "    sum_integral, error = integrate.dblquad(integrand_scipy, start, end, lambda _: 0, lambda _: region_radius, args=(lambdas, v, demands_locations), epsabs=tol)\n",
    "    return 1/4*sum_integral + v[0]*t + np.mean(v[1:])\n",
    "\n",
    "\n",
    "def objective_jac(v: list[float], demands_locations: list[list[float]], lambdas: list[float], t: float, region_radius, thetarange):\n",
    "    start, end = thetarange\n",
    "    n = demands_locations.shape[0]\n",
    "    jac = np.zeros(n + 1)\n",
    "    jac[0] = 1/4 * integrate.dblquad(jac_integrand0, start, end, lambda _: 0.00001, lambda _: region_radius, args=(lambdas, v, demands_locations), epsabs=tol)[0] + t\n",
    "    for j in range(1, n+1):\n",
    "        jac[j] = 1/4 * integrate.dblquad(jac_integrandj, start, end, lambda _: 0.00001, lambda _: region_radius, args=(lambdas, v, demands_locations, j), epsabs=tol)[0] + 1/n\n",
    "    print(f\"DEBUG: jac is {jac}.\")\n",
    "    return jac\n",
    "\n",
    "def minimize_problem7(lambdas, demands, thetarange, t, region_radius):\n",
    "    # constraints = [optimize.NonlinearConstraint(lambda v: constraint_func(lambdas, demands, v, region_radius), 0, np.inf)]\n",
    "    demands_locations = np.array([demands[i].get_cdnt() for i in range(len(demands))])\n",
    "    bounds = optimize.Bounds(0, np.inf)\n",
    "    result = optimize.minimize(objective_function, x0=np.append(1e-6, np.ones(demands.shape[0])), args=(demands_locations, lambdas, t, region_radius, thetarange), jac=objective_jac, method='SLSQP',  bounds=bounds, options={'ftol': tol, 'disp': True})\n",
    "    return result.x, result.fun\n",
    "\n",
    "region = Region(1)\n",
    "depot = Coordinate(2, 0.3)\n",
    "# generator = Demands_generator(region, 10)\n",
    "t, epsilon = 0.25, 0.1\n",
    "\n",
    "thetarange = (3.147444264116321 - 2*np.pi, 0.00012460881117814946)\n",
    "demands = np.array([Demand(Coordinate(r = 0.1802696888767692, theta = 4.768809396779301), 1),\n",
    "           Demand(Coordinate(r = 0.019475241487624584, theta = 5.1413757057591045), 1),\n",
    "           Demand(Coordinate(r = 0.012780814590608647, theta = 4.478189127165961), 1),\n",
    "           Demand(Coordinate(r = 0.4873716073198716, theta = 3.7670422583826495), 1),\n",
    "           Demand(Coordinate(r = 0.10873607186897494, theta = 5.328009178184025), 1),\n",
    "           Demand(Coordinate(r = 0.8939041702850812, theta = 4.5103794163992506), 1),\n",
    "           Demand(Coordinate(r = 0.8571542470728296, theta = 3.7828800007876318), 1),\n",
    "           Demand(Coordinate(r = 0.16508661759522714, theta = 3.4707299112070515), 1),\n",
    "           Demand(Coordinate(r = 0.6323340138234961, theta = 5.963386240530588), 1),\n",
    "           Demand(Coordinate(r = 0.020483612791232675, theta = 6.19945137229428), 1),\n",
    "           Demand(Coordinate(r = 0.15791230667493694, theta = 5.004153427569559), 1)])\n",
    "demands_locations = np.array([demands[i].get_cdnt() for i in range(len(demands))])\n",
    "lambdas = np.zeros(demands.shape[0])\n",
    "\n",
    "minimize_problem7(lambdas, demands, thetarange, t, region.radius)\n",
    "# objective_function(np.append(1e-6, np.ones(demands.shape[0])), demands_locations, lambdas, t, region.radius, thetarange), objective_function_scipy(np.append(1e-6, np.ones(demands.shape[0])), demands_locations, lambdas, t, region.radius, thetarange)"
   ]
  },
  {
   "cell_type": "code",
   "execution_count": 14,
   "metadata": {},
   "outputs": [
    {
     "name": "stderr",
     "output_type": "stream",
     "text": [
      "/Users/miaoyidi/miniconda3/envs/HCT/lib/python3.11/site-packages/scipy/integrate/_quadpack_py.py:1233: IntegrationWarning: The occurrence of roundoff error is detected, which prevents \n",
      "  the requested tolerance from being achieved.  The error may be \n",
      "  underestimated.\n",
      "  quad_r = quad(f, low, high, args=args, full_output=self.full_output,\n"
     ]
    },
    {
     "data": {
      "text/plain": [
       "-57671770120.76153"
      ]
     },
     "execution_count": 14,
     "metadata": {},
     "output_type": "execute_result"
    }
   ],
   "source": [
    "v = 1e-6*np.ones(demands.shape[0]+1)\n",
    "1/4 * integrate.dblquad(jac_integrand0, start, end, lambda _: 0.00001, lambda _: region.radius, args=(lambdas, v, demands_locations), epsabs=tol)[0] + t"
   ]
  },
  {
   "cell_type": "code",
   "execution_count": 10,
   "metadata": {},
   "outputs": [
    {
     "data": {
      "text/plain": [
       "(-3.1357410430632653, 0.00012460881117814946)"
      ]
     },
     "execution_count": 10,
     "metadata": {},
     "output_type": "execute_result"
    }
   ],
   "source": [
    "start, end = thetarange\n",
    "start, end = start - 2*np.pi, end\n",
    "start, end"
   ]
  },
  {
   "cell_type": "code",
   "execution_count": 4,
   "metadata": {},
   "outputs": [
    {
     "name": "stdout",
     "output_type": "stream",
     "text": [
      "DEBUG: jac is [0.47811021 0.09090909 0.09090909 0.09666327 0.12253781 0.09432201\n",
      " 0.09090909 0.09437652 0.19855623 0.17050254 0.2527685  0.09090909].\n"
     ]
    },
    {
     "data": {
      "text/plain": [
       "array([0.47811021, 0.09090909, 0.09090909, 0.09666327, 0.12253781,\n",
       "       0.09432201, 0.09090909, 0.09437652, 0.19855623, 0.17050254,\n",
       "       0.2527685 , 0.09090909])"
      ]
     },
     "execution_count": 4,
     "metadata": {},
     "output_type": "execute_result"
    }
   ],
   "source": [
    "objective_jac(np.append(1e-6, np.ones(demands.shape[0])), demands_locations, lambdas, t, region.radius, thetarange)"
   ]
  },
  {
   "cell_type": "code",
   "execution_count": 24,
   "metadata": {},
   "outputs": [],
   "source": [
    "gaussian = torchquad.Gaussian()\n",
    "def integrand(X):\n",
    "    return torch.ones(X.shape[0])\n",
    "gaussian.integrate(integrand, dim=1, N=1000000, integration_domain=[[0, 1]], backend='torch').item()"
   ]
  },
  {
   "cell_type": "code",
   "execution_count": 9,
   "metadata": {},
   "outputs": [
    {
     "data": {
      "text/plain": [
       "1.75"
      ]
     },
     "execution_count": 9,
     "metadata": {},
     "output_type": "execute_result"
    }
   ],
   "source": [
    "-1/4 % 2"
   ]
  }
 ],
 "metadata": {
  "kernelspec": {
   "display_name": "optimization",
   "language": "python",
   "name": "python3"
  },
  "language_info": {
   "codemirror_mode": {
    "name": "ipython",
    "version": 3
   },
   "file_extension": ".py",
   "mimetype": "text/x-python",
   "name": "python",
   "nbconvert_exporter": "python",
   "pygments_lexer": "ipython3",
   "version": "3.11.5"
  }
 },
 "nbformat": 4,
 "nbformat_minor": 2
}
